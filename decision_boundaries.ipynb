{
 "cells": [
  {
   "cell_type": "code",
   "execution_count": 56,
   "id": "8d3ef775",
   "metadata": {},
   "outputs": [],
   "source": [
    "import torch\n",
    "import numpy as np\n",
    "import matplotlib.pyplot as plt"
   ]
  },
  {
   "cell_type": "markdown",
   "id": "fdfee533",
   "metadata": {},
   "source": [
    "## Prepare data"
   ]
  },
  {
   "cell_type": "markdown",
   "id": "68c29846",
   "metadata": {},
   "source": [
    "### Dataset 2:"
   ]
  },
  {
   "cell_type": "code",
   "execution_count": 103,
   "id": "82d3ae1f",
   "metadata": {},
   "outputs": [],
   "source": [
    "# Full grid evaluation data\n",
    "full_sqr = []\n",
    "for i in range(-20,21):\n",
    "    full_sqr.append(0.1*i)\n",
    "full_sqr = torch.tensor(full_sqr)\n",
    "full_sqr = torch.cartesian_prod(full_sqr, full_sqr)"
   ]
  },
  {
   "cell_type": "code",
   "execution_count": 104,
   "id": "d3309c38",
   "metadata": {},
   "outputs": [],
   "source": [
    "# Inner green circle\n",
    "green_circ = []\n",
    "for i in range(-20,21):\n",
    "    green_circ.append(0.1*i)\n",
    "green_circ = torch.tensor(green_circ)\n",
    "green_circ = torch.cartesian_prod(green_circ, green_circ)\n",
    "green_circ = [t for t in green_circ if np.linalg.norm(t)<=1.0]"
   ]
  },
  {
   "cell_type": "code",
   "execution_count": 105,
   "id": "26cc993f",
   "metadata": {},
   "outputs": [],
   "source": [
    "# Outer red circle\n",
    "red_circ = []\n",
    "for i in range(-20,21):\n",
    "    red_circ.append(0.1*i)\n",
    "red_circ = torch.tensor(red_circ)\n",
    "red_circ = torch.cartesian_prod(red_circ, red_circ)\n",
    "red_circ = [t for t in red_circ if (np.linalg.norm(t)>=1.75 and np.linalg.norm(t)<=2.0)]"
   ]
  },
  {
   "cell_type": "code",
   "execution_count": 106,
   "id": "8a2374c1",
   "metadata": {},
   "outputs": [
    {
     "name": "stdout",
     "output_type": "stream",
     "text": [
      "317\n",
      "284\n"
     ]
    }
   ],
   "source": [
    "print(len(green_circ))\n",
    "print(len(red_circ))\n",
    "labels = [0 for i in range(len(green_circ))] + [1 for i in range(len(red_circ))]\n",
    "coords = green_circ + red_circ"
   ]
  },
  {
   "cell_type": "markdown",
   "id": "08965eff",
   "metadata": {},
   "source": [
    "### Dataset 1:"
   ]
  },
  {
   "cell_type": "code",
   "execution_count": 57,
   "id": "301547e3",
   "metadata": {},
   "outputs": [],
   "source": [
    "# Full grid evaluation data\n",
    "full_sqr = []\n",
    "for i in range(-20,21):\n",
    "    full_sqr.append(0.1*i)\n",
    "full_sqr = torch.tensor(full_sqr)\n",
    "full_sqr = torch.cartesian_prod(full_sqr, full_sqr)\n"
   ]
  },
  {
   "cell_type": "code",
   "execution_count": 58,
   "id": "326255e0",
   "metadata": {
    "scrolled": false
   },
   "outputs": [],
   "source": [
    "# Inner green square data\n",
    "green_sqr = []\n",
    "for i in range(-9,10):\n",
    "    green_sqr.append(0.1*i)\n",
    "green_sqr = torch.tensor(green_sqr)\n",
    "green_sqr = torch.cartesian_prod(green_sqr, green_sqr)\n",
    "green_sqr = [torch.stack([x,y]) for [x,y] in green_sqr if abs(x)<=0.7 and abs(y)<=0.7]"
   ]
  },
  {
   "cell_type": "code",
   "execution_count": 59,
   "id": "6f083cb2",
   "metadata": {},
   "outputs": [],
   "source": [
    "# Outer red rectangle\n",
    "red_sqr = []\n",
    "for i in range(-13,14):\n",
    "    red_sqr.append(0.1*i)\n",
    "red_sqr = torch.tensor(red_sqr)\n",
    "red_sqr = torch.cartesian_prod(red_sqr, red_sqr)\n",
    "red_sqr = [torch.stack([x,y]) for [x,y] in red_sqr if not (abs(x)<=1.0 and abs(y)<=1.0)]"
   ]
  },
  {
   "cell_type": "code",
   "execution_count": 61,
   "id": "7d9d2151",
   "metadata": {},
   "outputs": [
    {
     "name": "stdout",
     "output_type": "stream",
     "text": [
      "225\n",
      "288\n"
     ]
    }
   ],
   "source": [
    "print(len(green_sqr))\n",
    "print(len(red_sqr))\n",
    "labels = [0 for i in range(len(green_sqr))] + [1 for i in range(len(red_sqr))]\n",
    "coords = green_sqr + red_sqr"
   ]
  },
  {
   "cell_type": "markdown",
   "id": "780a7e3b",
   "metadata": {},
   "source": [
    "### Dataset/DataLoader"
   ]
  },
  {
   "cell_type": "code",
   "execution_count": 107,
   "id": "891ec725",
   "metadata": {},
   "outputs": [],
   "source": [
    "from torch.utils.data import Dataset, DataLoader\n",
    "\n",
    "class PointDataset(Dataset):\n",
    "    def __init__(self, coords, labels):\n",
    "        self.coords = coords\n",
    "        self.labels = labels\n",
    "    def __getitem__(self, index):\n",
    "        label = torch.zeros(2)\n",
    "        label[self.labels[index]] = 1\n",
    "        return self.coords[index], label\n",
    "    def __len__(self):\n",
    "        return len(self.coords)"
   ]
  },
  {
   "cell_type": "code",
   "execution_count": 108,
   "id": "e9b038e8",
   "metadata": {},
   "outputs": [],
   "source": [
    "dataset = PointDataset(coords, labels)\n",
    "dataloader = DataLoader(dataset, batch_size=10, shuffle=True, drop_last=False)"
   ]
  },
  {
   "cell_type": "markdown",
   "id": "782d5230",
   "metadata": {},
   "source": [
    "### Create simple NN and optimizer"
   ]
  },
  {
   "cell_type": "code",
   "execution_count": 109,
   "id": "86e79bfe",
   "metadata": {},
   "outputs": [],
   "source": [
    "import torch.nn.functional as F"
   ]
  },
  {
   "cell_type": "code",
   "execution_count": 110,
   "id": "7b637f97",
   "metadata": {},
   "outputs": [],
   "source": [
    "def show_params(model):\n",
    "    for name, params in model.named_parameters():\n",
    "#         if name.endswith('bias'):\n",
    "#             params.data -= 1.0\n",
    "    #     if params.requires_grad:\n",
    "        print(name)\n",
    "        print(params.data)\n",
    "        print()\n",
    "        \n",
    "def add_bias(model):\n",
    "    for name, params in model.named_parameters():\n",
    "        if name.endswith('bias'):\n",
    "            params.data += 1.0"
   ]
  },
  {
   "cell_type": "markdown",
   "id": "824d9f00",
   "metadata": {},
   "source": [
    "### Train loop"
   ]
  },
  {
   "cell_type": "code",
   "execution_count": 127,
   "id": "ab54634a",
   "metadata": {},
   "outputs": [],
   "source": [
    "import torch.nn as nn\n",
    "model = nn.Sequential(\n",
    "    nn.Linear(2,3),\n",
    "    nn.ReLU(),\n",
    "    nn.Linear(3,2),\n",
    "#     nn.Softmax(dim=1)\n",
    ")\n",
    "# Use for Dataset 1: add_bias(model)\n",
    "# learning_rate:0.01, momentum:0.1, batch_size:10, l2_decay:0.001\n",
    "optimizer = torch.optim.SGD(model.parameters(), lr=0.01, momentum=0.1, weight_decay=0.001)\n",
    "# show_params(model)"
   ]
  },
  {
   "cell_type": "code",
   "execution_count": 128,
   "id": "f349fa68",
   "metadata": {},
   "outputs": [
    {
     "name": "stdout",
     "output_type": "stream",
     "text": [
      "0.8304674625396729\n",
      "0.590918779373169\n",
      "0.8338614702224731\n",
      "0.388996422290802\n",
      "0.23486806452274323\n",
      "0.21047398447990417\n",
      "0.2092609405517578\n",
      "1.2549431324005127\n",
      "1.818260669708252\n",
      "1.2272474765777588\n",
      "0.12933865189552307\n",
      "0.012735464610159397\n",
      "0.2373497635126114\n",
      "0.2318294495344162\n",
      "0.22151726484298706\n",
      "0.016676196828484535\n",
      "0.037506721913814545\n",
      "0.11847473680973053\n",
      "0.010805902071297169\n",
      "0.11433007568120956\n",
      "0.0493583008646965\n"
     ]
    }
   ],
   "source": [
    "model.train()\n",
    "for epoch in range(201):\n",
    "    for points,labels in dataloader:\n",
    "        optimizer.zero_grad()\n",
    "#         print(f\"points = {points}\")\n",
    "#         print(f\"labels = {labels}\")\n",
    "        logit_preds = model(points)\n",
    "        loss = F.cross_entropy(logit_preds, labels)\n",
    "        loss.backward()\n",
    "        optimizer.step()\n",
    "    if epoch%10==0:\n",
    "        print(float(loss))\n",
    "#         show_params(model)"
   ]
  },
  {
   "cell_type": "code",
   "execution_count": 129,
   "id": "f1b4aa51",
   "metadata": {},
   "outputs": [],
   "source": [
    "model.eval()\n",
    "green_preds = []\n",
    "red_preds = []\n",
    "for point in full_sqr:\n",
    "    with torch.no_grad():\n",
    "        point = torch.unsqueeze(point, 0)\n",
    "        logits = model(point)[0]\n",
    "        probs = F.softmax(logits,dim=0)\n",
    "#         print(f\"logits={logits}\")\n",
    "#         print(probs)\n",
    "        if probs[0]>=probs[1]:\n",
    "            green_preds.append(torch.squeeze(point))\n",
    "        else:\n",
    "            red_preds.append(torch.squeeze(point))\n",
    "# show_params(model)"
   ]
  },
  {
   "cell_type": "markdown",
   "id": "e55ebc21",
   "metadata": {},
   "source": [
    "## Dataset 2: Circle"
   ]
  },
  {
   "cell_type": "code",
   "execution_count": 130,
   "id": "47bd460c",
   "metadata": {},
   "outputs": [
    {
     "data": {
      "text/plain": [
       "<matplotlib.collections.PathCollection at 0x10979b430>"
      ]
     },
     "execution_count": 130,
     "metadata": {},
     "output_type": "execute_result"
    },
    {
     "data": {
      "image/png": "[encoded data removed]",
      "text/plain": [
       "<Figure size 640x480 with 1 Axes>"
      ]
     },
     "metadata": {},
     "output_type": "display_data"
    }
   ],
   "source": [
    "plt.axis([-2.0, 2.0, -2.0, 2.0])\n",
    "plt.scatter(torch.stack(green_circ)[:,0], torch.stack(green_circ)[:,1],c='green', s=10)\n",
    "plt.scatter(torch.stack(red_circ)[:,0], torch.stack(red_circ)[:,1],c='red',s=10)"
   ]
  },
  {
   "cell_type": "code",
   "execution_count": 131,
   "id": "ec6ebd72",
   "metadata": {},
   "outputs": [
    {
     "data": {
      "text/plain": [
       "<matplotlib.collections.PathCollection at 0x10fe61d00>"
      ]
     },
     "execution_count": 131,
     "metadata": {},
     "output_type": "execute_result"
    },
    {
     "data": {
      "image/png": "[encoded data removed]",
      "text/plain": [
       "<Figure size 640x480 with 1 Axes>"
      ]
     },
     "metadata": {},
     "output_type": "display_data"
    }
   ],
   "source": [
    "plt.axis([-2.0, 2.0, -2.0, 2.0])\n",
    "plt.scatter(torch.stack(green_preds)[:,0], torch.stack(green_preds)[:,1],c='green', s=10)\n",
    "plt.scatter(torch.stack(red_preds)[:,0], torch.stack(red_preds)[:,1],c='red', s=10)"
   ]
  },
  {
   "cell_type": "code",
   "execution_count": 132,
   "id": "23af115a",
   "metadata": {},
   "outputs": [
    {
     "name": "stdout",
     "output_type": "stream",
     "text": [
      "0.weight\n",
      "tensor([[ 2.2073, -0.4897],\n",
      "        [-1.4752, -1.6321],\n",
      "        [-0.6496,  2.0777]])\n",
      "\n",
      "0.bias\n",
      "tensor([-0.9715, -0.9149, -0.8010])\n",
      "\n",
      "2.weight\n",
      "tensor([[-1.6584, -1.3337, -1.3917],\n",
      "        [ 1.7072,  1.9719,  1.8006]])\n",
      "\n",
      "2.bias\n",
      "tensor([ 2.4065, -2.5301])\n",
      "\n"
     ]
    }
   ],
   "source": [
    "show_params(model)"
   ]
  },
  {
   "cell_type": "code",
   "execution_count": null,
   "id": "bd6587aa",
   "metadata": {},
   "outputs": [],
   "source": [
    "'''\n",
    "0.weight\n",
    "tensor([[ 2.2073, -0.4897],\n",
    "        [-1.4752, -1.6321],\n",
    "        [-0.6496,  2.0777]])\n",
    "\n",
    "0.bias\n",
    "tensor([-0.9715, -0.9149, -0.8010])\n",
    "\n",
    "2.weight\n",
    "tensor([[-1.6584, -1.3337, -1.3917],\n",
    "        [ 1.7072,  1.9719,  1.8006]])\n",
    "\n",
    "2.bias\n",
    "tensor([ 2.4065, -2.5301])\n",
    "\n",
    "'''"
   ]
  },
  {
   "cell_type": "code",
   "execution_count": null,
   "id": "d373a09c",
   "metadata": {},
   "outputs": [],
   "source": [
    "# Graphs of intermediate functions for Dataset 2\n",
    "\n",
    "# hidden 1,2,3\n",
    "\\max \\left(0,2.2073x-0.4897y-0.9715\\right)\n",
    "\\max \\left(0,-1.4752x-1.6321y-0.9149\\right)\n",
    "\\max \\left(0,-0.6496x+2.0777y-0.801\\right)\n",
    "\n",
    "# green logit\n",
    "-1.6584\\cdot \\max \\left(0,2.2073x-0.4897y-0.9715\\right)-1.3337\\cdot \\max \\left(0,-1.4752x-1.6321y-0.9149\\right)-1.3917\\cdot \\max \\left(0,-0.6496x+2.0777y-0.801\\right)+2.4065\n",
    "\n",
    "# red logit\n",
    "1.7072\\cdot \\max \\left(0,2.2073x-0.4897y-0.9715\\right)+1.9719\\cdot \\max \\left(0,-1.4752x-1.6321y-0.9149\\right)+1.8006\\cdot \\max \\left(0,-0.6496x+2.0777y-0.801\\right)-2.5301\n",
    "\n",
    "# green probability\n",
    "\\frac{e^{-1.6584\\cdot \\max \\left(0,2.2073x-0.4897y-0.9715\\right)-1.3337\\cdot \\max \\left(0,-1.4752x-1.6321y-0.9149\\right)-1.3917\\cdot \\max \\left(0,-0.6496x+2.0777y-0.801\\right)+2.4065}}{e^{-1.6584\\cdot \\max \\left(0,2.2073x-0.4897y-0.9715\\right)-1.3337\\cdot \\max \\left(0,-1.4752x-1.6321y-0.9149\\right)-1.3917\\cdot \\max \\left(0,-0.6496x+2.0777y-0.801\\right)+2.4065}+e^{1.7072\\cdot \\max \\left(0,2.2073x-0.4897y-0.9715\\right)+1.9719\\cdot \\max \\left(0,-1.4752x-1.6321y-0.9149\\right)+1.8006\\cdot \\max \\left(0,-0.6496x+2.0777y-0.801\\right)-2.5301}}\n",
    "\n",
    "# red probability\n",
    "\\frac{e^{1.7072\\cdot \\max \\left(0,2.2073x-0.4897y-0.9715\\right)+1.9719\\cdot \\max \\left(0,-1.4752x-1.6321y-0.9149\\right)+1.8006\\cdot \\max \\left(0,-0.6496x+2.0777y-0.801\\right)-2.5301}}{e^{-1.6584\\cdot \\max \\left(0,2.2073x-0.4897y-0.9715\\right)-1.3337\\cdot \\max \\left(0,-1.4752x-1.6321y-0.9149\\right)-1.3917\\cdot \\max \\left(0,-0.6496x+2.0777y-0.801\\right)+2.4065}+e^{1.7072\\cdot \\max \\left(0,2.2073x-0.4897y-0.9715\\right)+1.9719\\cdot \\max \\left(0,-1.4752x-1.6321y-0.9149\\right)+1.8006\\cdot \\max \\left(0,-0.6496x+2.0777y-0.801\\right)-2.5301}}"
   ]
  },
  {
   "cell_type": "markdown",
   "id": "284acf0f",
   "metadata": {},
   "source": [
    "## Dataset 1: Contained rectangle"
   ]
  },
  {
   "cell_type": "code",
   "execution_count": 82,
   "id": "33f4b765",
   "metadata": {},
   "outputs": [
    {
     "data": {
      "text/plain": [
       "<matplotlib.collections.PathCollection at 0x1091d35e0>"
      ]
     },
     "execution_count": 82,
     "metadata": {},
     "output_type": "execute_result"
    },
    {
     "data": {
      "image/png": "[encoded data removed]",
      "text/plain": [
       "<Figure size 640x480 with 1 Axes>"
      ]
     },
     "metadata": {},
     "output_type": "display_data"
    }
   ],
   "source": [
    "plt.axis([-2.0, 2.0, -2.0, 2.0])\n",
    "plt.scatter(torch.stack(green_sqr)[:,0], torch.stack(green_sqr)[:,1],c='green', s=10)\n",
    "plt.scatter(torch.stack(red_sqr)[:,0], torch.stack(red_sqr)[:,1],c='red',s=10)"
   ]
  },
  {
   "cell_type": "code",
   "execution_count": 83,
   "id": "0b32b9f2",
   "metadata": {},
   "outputs": [
    {
     "data": {
      "text/plain": [
       "<matplotlib.collections.PathCollection at 0x109340220>"
      ]
     },
     "execution_count": 83,
     "metadata": {},
     "output_type": "execute_result"
    },
    {
     "data": {
      "image/png": "[encoded data removed]",
      "text/plain": [
       "<Figure size 640x480 with 1 Axes>"
      ]
     },
     "metadata": {},
     "output_type": "display_data"
    }
   ],
   "source": [
    "plt.axis([-2.0, 2.0, -2.0, 2.0])\n",
    "plt.scatter(torch.stack(green_preds)[:,0], torch.stack(green_preds)[:,1],c='green', s=10)\n",
    "plt.scatter(torch.stack(red_preds)[:,0], torch.stack(red_preds)[:,1],c='red', s=10)"
   ]
  },
  {
   "cell_type": "code",
   "execution_count": 84,
   "id": "51d329f2",
   "metadata": {},
   "outputs": [
    {
     "name": "stdout",
     "output_type": "stream",
     "text": [
      "0.weight\n",
      "tensor([[-2.8300, -2.8441],\n",
      "        [-2.6881,  0.0216],\n",
      "        [-2.7883,  2.8599]])\n",
      "\n",
      "0.bias\n",
      "tensor([-0.0692,  3.0416, -0.0494])\n",
      "\n",
      "2.weight\n",
      "tensor([[-2.5839,  2.7774, -2.6622],\n",
      "        [ 3.0145, -2.9333,  2.9574]])\n",
      "\n",
      "2.bias\n",
      "tensor([-1.3767,  2.3159])\n",
      "\n"
     ]
    }
   ],
   "source": [
    "show_params(model)"
   ]
  },
  {
   "cell_type": "code",
   "execution_count": 52,
   "id": "7e53b51f",
   "metadata": {},
   "outputs": [],
   "source": [
    "# Previous training run\n",
    "# 0.weight\n",
    "# tensor([[ 2.7427,  2.8161],\n",
    "#         [ 2.7780, -2.7934],\n",
    "#         [ 2.6480,  0.0222]])\n",
    "\n",
    "# 0.bias\n",
    "# tensor([-0.0525, -0.0723,  2.9888])\n",
    "\n",
    "# 2.weight\n",
    "# tensor([[-2.8163, -2.7755,  2.9952],\n",
    "#         [ 2.7369,  2.7678, -2.6336]])\n",
    "\n",
    "# 2.bias\n",
    "# tensor([-1.7292,  1.8008])\n"
   ]
  },
  {
   "cell_type": "code",
   "execution_count": null,
   "id": "3bacc277",
   "metadata": {},
   "outputs": [],
   "source": [
    "\n",
    "#green probability\n",
    "\\frac{e^{-2.8163\\cdot \\max \\left(0,2.7427x+2.8161y-0.0525\\right)-2.7755\\cdot \\max \\left(0,2.778x-2.7934y-0.0723\\right)+2.9952\\cdot \\max \\left(0,2.648x+0.0222y+2.9888\\right)-1.7292}}{e^{-2.8163\\cdot \\max \\left(0,2.7427x+2.8161y-0.0525\\right)-2.7755\\cdot \\max \\left(0,2.778x-2.7934y-0.0723\\right)+2.9952\\cdot \\max \\left(0,2.648x+0.0222y+2.9888\\right)-1.7292}+e^{2.7369\\cdot \\max \\left(0,2.7427x+2.8161y-0.0525\\right)+2.7678\\cdot \\max \\left(0,2.778x-2.7934y-0.0723\\right)-2.6336\\cdot \\max \\left(0,2.648x+0.0222y+2.9888\\right)+1.8008}}\n",
    "\n",
    "# red probability\n",
    "\\frac{e^{2.7369\\cdot \\max \\left(0,2.7427x+2.8161y-0.0525\\right)+2.7678\\cdot \\max \\left(0,2.778x-2.7934y-0.0723\\right)-2.6336\\cdot \\max \\left(0,2.648x+0.0222y+2.9888\\right)+1.8008}}{e^{-2.8163\\cdot \\max \\left(0,2.7427x+2.8161y-0.0525\\right)-2.7755\\cdot \\max \\left(0,2.778x-2.7934y-0.0723\\right)+2.9952\\cdot \\max \\left(0,2.648x+0.0222y+2.9888\\right)-1.7292}+e^{2.7369\\cdot \\max \\left(0,2.7427x+2.8161y-0.0525\\right)+2.7678\\cdot \\max \\left(0,2.778x-2.7934y-0.0723\\right)-2.6336\\cdot \\max \\left(0,2.648x+0.0222y+2.9888\\right)+1.8008}}\n",
    "\n",
    "# red logit\n",
    "2.7369\\cdot \\max \\left(0,2.7427x+2.8161y-0.0525\\right)+2.7678\\cdot \\max \\left(0,2.778x-2.7934y-0.0723\\right)-2.6336\\cdot \\max \\left(0,2.648x+0.0222y+2.9888\\right)+1.8008\n",
    "\n",
    "# green logit\n",
    "-2.8163\\cdot \\max \\left(0,2.7427x+2.8161y-0.0525\\right)-2.7755\\cdot \\max \\left(0,2.778x-2.7934y-0.0723\\right)+2.9952\\cdot \\max \\left(0,2.648x+0.0222y+2.9888\\right)-1.7292\n",
    "\n",
    "# hidden units 1,2,3\n",
    "\\max \\left(0,2.7427x+2.8161y-0.0525\\right)\n",
    "\\max \\left(0,2.778x-2.7934y-0.0723\\right)\n",
    "\\max \\left(0,2.648x+0.0222y+2.9888\\right)"
   ]
  }
 ],
 "metadata": {
  "kernelspec": {
   "display_name": "Python 3.9 (pytorch)",
   "language": "python",
   "name": "pytorch"
  },
  "language_info": {
   "codemirror_mode": {
    "name": "ipython",
    "version": 3
   },
   "file_extension": ".py",
   "mimetype": "text/x-python",
   "name": "python",
   "nbconvert_exporter": "python",
   "pygments_lexer": "ipython3",
   "version": "3.9.13"
  },
  "varInspector": {
   "cols": {
    "lenName": 16,
    "lenType": 16,
    "lenVar": 40
   },
   "kernels_config": {
    "python": {
     "delete_cmd_postfix": "",
     "delete_cmd_prefix": "del ",
     "library": "var_list.py",
     "varRefreshCmd": "print(var_dic_list())"
    },
    "r": {
     "delete_cmd_postfix": ") ",
     "delete_cmd_prefix": "rm(",
     "library": "var_list.r",
     "varRefreshCmd": "cat(var_dic_list()) "
    }
   },
   "types_to_exclude": [
    "module",
    "function",
    "builtin_function_or_method",
    "instance",
    "_Feature"
   ],
   "window_display": false
  }
 },
 "nbformat": 4,
 "nbformat_minor": 5
}
